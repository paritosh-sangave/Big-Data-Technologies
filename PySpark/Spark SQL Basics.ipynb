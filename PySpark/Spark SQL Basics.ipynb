{
 "cells": [
  {
   "cell_type": "code",
   "execution_count": 1,
   "metadata": {},
   "outputs": [],
   "source": [
    "import findspark"
   ]
  },
  {
   "cell_type": "code",
   "execution_count": 2,
   "metadata": {},
   "outputs": [],
   "source": [
    "findspark.init('/usr/local/spark/')"
   ]
  },
  {
   "cell_type": "code",
   "execution_count": 10,
   "metadata": {},
   "outputs": [],
   "source": [
    "import pyspark"
   ]
  },
  {
   "cell_type": "code",
   "execution_count": 11,
   "metadata": {},
   "outputs": [],
   "source": [
    "from pyspark.sql import SparkSession"
   ]
  },
  {
   "cell_type": "code",
   "execution_count": 14,
   "metadata": {},
   "outputs": [],
   "source": [
    "spark = SparkSession.builder.appName(\"Testing\").getOrCreate()"
   ]
  },
  {
   "cell_type": "code",
   "execution_count": 15,
   "metadata": {},
   "outputs": [],
   "source": [
    "import os\n",
    "os.environ['PYSPARK_SUBMIT_ARGS'] = '--driver-class-path /usr/local/sqoop/lib/mysql-connector-java-5.1.47-bin.jar --jars /usr/local/sqoop/lib/mysql-connector-java-5.1.47/mysql-connector-java-5.1.47-bin.jar pyspark-shell'"
   ]
  },
  {
   "cell_type": "code",
   "execution_count": 24,
   "metadata": {},
   "outputs": [],
   "source": [
    "df_values = spark.read.format(\"jdbc\").\\\n",
    "option(\"url\",\"jdbc:mysql://localhost/\").\\\n",
    "option(\"dbtable\",\"mydb.customer\").\\\n",
    "option(\"user\",\"root\").option(\"password\",\"root\").load()"
   ]
  },
  {
   "cell_type": "code",
   "execution_count": 26,
   "metadata": {},
   "outputs": [
    {
     "name": "stdout",
     "output_type": "stream",
     "text": [
      "+-----------+----------------+-------------+--------------+----------------+\n",
      "|customer_id|   customer_name|customer_city|customer_state|customer_zipcode|\n",
      "+-----------+----------------+-------------+--------------+----------------+\n",
      "|      11039|     Mary Torres|       Caguas|            PR|             725|\n",
      "|       5623|      Jose Haley|     Columbus|            OH|           43207|\n",
      "|       5829|      Mary Smith|      Houston|            TX|           77015|\n",
      "|       6336|  Richard Maddox|       Caguas|            PR|             725|\n",
      "|       1708|  Margaret Booth|    Arlington|            TX|           76010|\n",
      "|      10227|  Mary Henderson|       Caguas|            PR|             725|\n",
      "|        839|     Lisa Walker|       Caguas|            PR|             725|\n",
      "|       7604|   Jonathan Hill|      Phoenix|            AZ|           85040|\n",
      "|       6485|Carolyn Sheppard|Pompano Beach|            FL|           33063|\n",
      "|       4737|    Mary Mendoza|       Caguas|            PR|             725|\n",
      "|       5973|   Michael Smith|       Caguas|            PR|             725|\n",
      "|       9205|    James Holmes|     Hilliard|            OH|           43026|\n",
      "|        138|     Mary Dawson|       Caguas|            PR|             725|\n",
      "|        371|    Adam Marquez|  San Antonio|            TX|           78223|\n",
      "|       9285|    Gloria Smith|       Caguas|            PR|             725|\n",
      "|       1209|       Mary Webb|   San Marcos|            TX|           78666|\n",
      "|       3021|  Nancy Alvarado|     Flushing|            NY|           11354|\n",
      "|       3354|  Russell Flores|       Caguas|            PR|             725|\n",
      "|      11684|    Denise Smith|    Rego Park|            NY|           11374|\n",
      "|      11144|  Jose Dickerson|         Mesa|            AZ|           85201|\n",
      "+-----------+----------------+-------------+--------------+----------------+\n",
      "only showing top 20 rows\n",
      "\n"
     ]
    }
   ],
   "source": [
    "df_values.show()"
   ]
  },
  {
   "cell_type": "code",
   "execution_count": 28,
   "metadata": {},
   "outputs": [
    {
     "data": {
      "text/plain": [
       "pyspark.sql.dataframe.DataFrame"
      ]
     },
     "execution_count": 28,
     "metadata": {},
     "output_type": "execute_result"
    }
   ],
   "source": [
    "type(df_values)"
   ]
  },
  {
   "cell_type": "code",
   "execution_count": 29,
   "metadata": {},
   "outputs": [],
   "source": [
    "df_values.createOrReplaceTempView(\"customers\")"
   ]
  },
  {
   "cell_type": "code",
   "execution_count": 31,
   "metadata": {},
   "outputs": [
    {
     "name": "stdout",
     "output_type": "stream",
     "text": [
      "+-----------+----------------+-------------+--------------+----------------+\n",
      "|customer_id|   customer_name|customer_city|customer_state|customer_zipcode|\n",
      "+-----------+----------------+-------------+--------------+----------------+\n",
      "|      11039|     Mary Torres|       Caguas|            PR|             725|\n",
      "|       5623|      Jose Haley|     Columbus|            OH|           43207|\n",
      "|       5829|      Mary Smith|      Houston|            TX|           77015|\n",
      "|       6336|  Richard Maddox|       Caguas|            PR|             725|\n",
      "|       1708|  Margaret Booth|    Arlington|            TX|           76010|\n",
      "|      10227|  Mary Henderson|       Caguas|            PR|             725|\n",
      "|        839|     Lisa Walker|       Caguas|            PR|             725|\n",
      "|       7604|   Jonathan Hill|      Phoenix|            AZ|           85040|\n",
      "|       6485|Carolyn Sheppard|Pompano Beach|            FL|           33063|\n",
      "|       4737|    Mary Mendoza|       Caguas|            PR|             725|\n",
      "|       5973|   Michael Smith|       Caguas|            PR|             725|\n",
      "|       9205|    James Holmes|     Hilliard|            OH|           43026|\n",
      "|        138|     Mary Dawson|       Caguas|            PR|             725|\n",
      "|        371|    Adam Marquez|  San Antonio|            TX|           78223|\n",
      "|       9285|    Gloria Smith|       Caguas|            PR|             725|\n",
      "|       1209|       Mary Webb|   San Marcos|            TX|           78666|\n",
      "|       3021|  Nancy Alvarado|     Flushing|            NY|           11354|\n",
      "|       3354|  Russell Flores|       Caguas|            PR|             725|\n",
      "|      11684|    Denise Smith|    Rego Park|            NY|           11374|\n",
      "|      11144|  Jose Dickerson|         Mesa|            AZ|           85201|\n",
      "+-----------+----------------+-------------+--------------+----------------+\n",
      "only showing top 20 rows\n",
      "\n"
     ]
    }
   ],
   "source": [
    "spark.sql(\"select * from customers\").show()"
   ]
  },
  {
   "cell_type": "code",
   "execution_count": null,
   "metadata": {},
   "outputs": [],
   "source": []
  }
 ],
 "metadata": {
  "kernelspec": {
   "display_name": "Python 3",
   "language": "python",
   "name": "python3"
  },
  "language_info": {
   "codemirror_mode": {
    "name": "ipython",
    "version": 3
   },
   "file_extension": ".py",
   "mimetype": "text/x-python",
   "name": "python",
   "nbconvert_exporter": "python",
   "pygments_lexer": "ipython3",
   "version": "3.5.2"
  }
 },
 "nbformat": 4,
 "nbformat_minor": 2
}
