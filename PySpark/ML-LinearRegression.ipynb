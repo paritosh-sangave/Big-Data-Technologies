{
 "cells": [
  {
   "cell_type": "code",
   "execution_count": 1,
   "metadata": {},
   "outputs": [],
   "source": [
    "import findspark\n",
    "findspark.init('/usr/local/spark')\n",
    "import pyspark"
   ]
  },
  {
   "cell_type": "code",
   "execution_count": 2,
   "metadata": {},
   "outputs": [],
   "source": [
    "from pyspark.sql import SparkSession"
   ]
  },
  {
   "cell_type": "code",
   "execution_count": 3,
   "metadata": {},
   "outputs": [],
   "source": [
    "spark = SparkSession.builder.appName(\"Pyspark Linear Regression example\").getOrCreate()"
   ]
  },
  {
   "cell_type": "code",
   "execution_count": 4,
   "metadata": {},
   "outputs": [],
   "source": [
    "from pyspark.ml.regression import LinearRegression\n",
    "from pyspark.ml.feature import VectorAssembler\n",
    "from pyspark.ml.feature import StandardScaler\n",
    "from pyspark.ml import Pipeline\n",
    "from pyspark.sql.functions import *"
   ]
  },
  {
   "cell_type": "code",
   "execution_count": 5,
   "metadata": {},
   "outputs": [],
   "source": [
    "data = spark.read.load(\"/home/hduser/Downloads/sharedfolder/linregdata1.csv\", format=\"csv\",sep = ',',inferSchema='true',header=\"true\")\n"
   ]
  },
  {
   "cell_type": "code",
   "execution_count": 6,
   "metadata": {},
   "outputs": [
    {
     "name": "stdout",
     "output_type": "stream",
     "text": [
      "+-----------+--------------+----------------+-----------------+-------------+\n",
      "|temperature|exhaust_vacuum|ambient_pressure|relative_humidity|energy_output|\n",
      "+-----------+--------------+----------------+-----------------+-------------+\n",
      "|       8.34|         40.77|         1010.84|            90.01|       480.48|\n",
      "|      23.64|         58.49|          1011.4|             74.2|       445.75|\n",
      "|      29.74|          56.9|         1007.15|            41.91|       438.76|\n",
      "|      19.07|         49.69|         1007.22|            76.79|       453.09|\n",
      "|       11.8|         40.66|         1017.13|             97.2|       464.43|\n",
      "|      13.97|         39.16|         1016.05|             84.6|       470.96|\n",
      "|       22.1|         71.29|          1008.2|            75.38|       442.35|\n",
      "|      14.47|         41.76|         1021.98|            78.41|        464.0|\n",
      "|      31.25|         69.51|         1010.25|            36.83|       428.77|\n",
      "|       6.77|         38.18|          1017.8|            81.13|       484.31|\n",
      "|      28.28|         68.67|         1006.36|             69.9|       435.29|\n",
      "|      22.99|         46.93|         1014.15|            49.42|       451.41|\n",
      "|       29.3|         70.04|         1010.95|            61.23|       426.25|\n",
      "|       8.14|         37.49|         1009.04|            80.33|       480.66|\n",
      "|      16.92|          44.6|         1017.34|            58.75|       460.17|\n",
      "|      22.72|         64.15|         1021.14|            60.34|       453.13|\n",
      "|      18.14|         43.56|         1012.83|             47.1|       461.71|\n",
      "|      11.49|         44.63|         1020.44|            86.04|       471.08|\n",
      "|       9.94|         40.46|          1018.9|            68.51|       473.74|\n",
      "|      23.54|          41.1|         1002.05|            38.05|       448.56|\n",
      "+-----------+--------------+----------------+-----------------+-------------+\n",
      "only showing top 20 rows\n",
      "\n"
     ]
    }
   ],
   "source": [
    "data.show()"
   ]
  },
  {
   "cell_type": "code",
   "execution_count": 7,
   "metadata": {},
   "outputs": [
    {
     "data": {
      "text/plain": [
       "DataFrame[temperature: double, exhaust_vacuum: double, ambient_pressure: double, relative_humidity: double, energy_output: double]"
      ]
     },
     "execution_count": 7,
     "metadata": {},
     "output_type": "execute_result"
    }
   ],
   "source": [
    "data"
   ]
  },
  {
   "cell_type": "code",
   "execution_count": 8,
   "metadata": {},
   "outputs": [],
   "source": [
    "features=[\"temperature\",\"exhaust_vacuum\",\"ambient_pressure\",\"relative_humidity\"]"
   ]
  },
  {
   "cell_type": "code",
   "execution_count": 9,
   "metadata": {},
   "outputs": [],
   "source": [
    "lr_data = data.select(col(\"energy_output\").alias(\"label\"), *features)"
   ]
  },
  {
   "cell_type": "code",
   "execution_count": 10,
   "metadata": {},
   "outputs": [
    {
     "name": "stdout",
     "output_type": "stream",
     "text": [
      "+------+-----------+--------------+----------------+-----------------+\n",
      "| label|temperature|exhaust_vacuum|ambient_pressure|relative_humidity|\n",
      "+------+-----------+--------------+----------------+-----------------+\n",
      "|480.48|       8.34|         40.77|         1010.84|            90.01|\n",
      "|445.75|      23.64|         58.49|          1011.4|             74.2|\n",
      "|438.76|      29.74|          56.9|         1007.15|            41.91|\n",
      "|453.09|      19.07|         49.69|         1007.22|            76.79|\n",
      "|464.43|       11.8|         40.66|         1017.13|             97.2|\n",
      "+------+-----------+--------------+----------------+-----------------+\n",
      "only showing top 5 rows\n",
      "\n"
     ]
    }
   ],
   "source": [
    "lr_data.show(5)"
   ]
  },
  {
   "cell_type": "code",
   "execution_count": 11,
   "metadata": {},
   "outputs": [],
   "source": [
    "vectorAssembler = VectorAssembler(inputCols= features, outputCol = \"unscaled_features\")"
   ]
  },
  {
   "cell_type": "code",
   "execution_count": 12,
   "metadata": {},
   "outputs": [],
   "source": [
    "va_data = vectorAssembler.transform(lr_data)"
   ]
  },
  {
   "cell_type": "code",
   "execution_count": 13,
   "metadata": {},
   "outputs": [
    {
     "name": "stdout",
     "output_type": "stream",
     "text": [
      "+------+-----------+--------------+----------------+-----------------+--------------------+\n",
      "| label|temperature|exhaust_vacuum|ambient_pressure|relative_humidity|   unscaled_features|\n",
      "+------+-----------+--------------+----------------+-----------------+--------------------+\n",
      "|480.48|       8.34|         40.77|         1010.84|            90.01|[8.34,40.77,1010....|\n",
      "|445.75|      23.64|         58.49|          1011.4|             74.2|[23.64,58.49,1011...|\n",
      "+------+-----------+--------------+----------------+-----------------+--------------------+\n",
      "only showing top 2 rows\n",
      "\n"
     ]
    }
   ],
   "source": [
    "va_data.show(2)"
   ]
  },
  {
   "cell_type": "code",
   "execution_count": 14,
   "metadata": {},
   "outputs": [],
   "source": [
    "standardScaler = StandardScaler(inputCol = \"unscaled_features\",outputCol=\"features\")"
   ]
  },
  {
   "cell_type": "code",
   "execution_count": 15,
   "metadata": {},
   "outputs": [],
   "source": [
    "ss_model = standardScaler.fit(va_data)"
   ]
  },
  {
   "cell_type": "code",
   "execution_count": 16,
   "metadata": {},
   "outputs": [],
   "source": [
    "ss_data = ss_model.transform(va_data)"
   ]
  },
  {
   "cell_type": "code",
   "execution_count": 17,
   "metadata": {},
   "outputs": [
    {
     "name": "stdout",
     "output_type": "stream",
     "text": [
      "+------+-----------+--------------+----------------+-----------------+--------------------+--------------------+\n",
      "| label|temperature|exhaust_vacuum|ambient_pressure|relative_humidity|   unscaled_features|            features|\n",
      "+------+-----------+--------------+----------------+-----------------+--------------------+--------------------+\n",
      "|480.48|       8.34|         40.77|         1010.84|            90.01|[8.34,40.77,1010....|[1.11909157444034...|\n",
      "|445.75|      23.64|         58.49|          1011.4|             74.2|[23.64,58.49,1011...|[3.17210129733451...|\n",
      "|438.76|      29.74|          56.9|         1007.15|            41.91|[29.74,56.9,1007....|[3.99062151365179...|\n",
      "|453.09|      19.07|         49.69|         1007.22|            76.79|[19.07,49.69,1007...|[2.55888205330664...|\n",
      "+------+-----------+--------------+----------------+-----------------+--------------------+--------------------+\n",
      "only showing top 4 rows\n",
      "\n"
     ]
    }
   ],
   "source": [
    "ss_data.show(4)"
   ]
  },
  {
   "cell_type": "code",
   "execution_count": 18,
   "metadata": {},
   "outputs": [],
   "source": [
    "(training, test)=ss_data.randomSplit([0.7,0.3])"
   ]
  },
  {
   "cell_type": "code",
   "execution_count": 19,
   "metadata": {},
   "outputs": [
    {
     "data": {
      "text/plain": [
       "6646"
      ]
     },
     "execution_count": 19,
     "metadata": {},
     "output_type": "execute_result"
    }
   ],
   "source": [
    "training.count()"
   ]
  },
  {
   "cell_type": "code",
   "execution_count": 20,
   "metadata": {},
   "outputs": [
    {
     "data": {
      "text/plain": [
       "2922"
      ]
     },
     "execution_count": 20,
     "metadata": {},
     "output_type": "execute_result"
    }
   ],
   "source": [
    "test.count()"
   ]
  },
  {
   "cell_type": "code",
   "execution_count": 21,
   "metadata": {},
   "outputs": [],
   "source": [
    "lr = LinearRegression(maxIter=10,regParam=0.1)"
   ]
  },
  {
   "cell_type": "code",
   "execution_count": 22,
   "metadata": {},
   "outputs": [],
   "source": [
    "lr_model = lr.fit(training)"
   ]
  },
  {
   "cell_type": "code",
   "execution_count": 23,
   "metadata": {},
   "outputs": [
    {
     "data": {
      "text/plain": [
       "DenseVector([-14.438, -3.1493, 0.4324, -2.1898])"
      ]
     },
     "execution_count": 23,
     "metadata": {},
     "output_type": "execute_result"
    }
   ],
   "source": [
    "lr_model.coefficients\n"
   ]
  },
  {
   "cell_type": "code",
   "execution_count": 24,
   "metadata": {},
   "outputs": [
    {
     "data": {
      "text/plain": [
       "443.1685661200362"
      ]
     },
     "execution_count": 24,
     "metadata": {},
     "output_type": "execute_result"
    }
   ],
   "source": [
    "lr_model.intercept"
   ]
  },
  {
   "cell_type": "code",
   "execution_count": 25,
   "metadata": {},
   "outputs": [],
   "source": [
    "trainingSummary = lr_model.summary"
   ]
  },
  {
   "cell_type": "code",
   "execution_count": 26,
   "metadata": {},
   "outputs": [
    {
     "data": {
      "text/plain": [
       "4.545732135762056"
      ]
     },
     "execution_count": 26,
     "metadata": {},
     "output_type": "execute_result"
    }
   ],
   "source": [
    "trainingSummary.rootMeanSquaredError"
   ]
  },
  {
   "cell_type": "code",
   "execution_count": 27,
   "metadata": {},
   "outputs": [
    {
     "data": {
      "text/plain": [
       "3.6366708586713754"
      ]
     },
     "execution_count": 27,
     "metadata": {},
     "output_type": "execute_result"
    }
   ],
   "source": [
    "trainingSummary.meanAbsoluteError"
   ]
  },
  {
   "cell_type": "code",
   "execution_count": 28,
   "metadata": {},
   "outputs": [
    {
     "data": {
      "text/plain": [
       "20.663680650099863"
      ]
     },
     "execution_count": 28,
     "metadata": {},
     "output_type": "execute_result"
    }
   ],
   "source": [
    "trainingSummary.meanSquaredError\n"
   ]
  },
  {
   "cell_type": "code",
   "execution_count": 29,
   "metadata": {},
   "outputs": [],
   "source": [
    "prediction_df = lr_model.transform(test)"
   ]
  },
  {
   "cell_type": "code",
   "execution_count": 30,
   "metadata": {},
   "outputs": [
    {
     "name": "stdout",
     "output_type": "stream",
     "text": [
      "+------+-----------+--------------+----------------+-----------------+--------------------+--------------------+------------------+\n",
      "| label|temperature|exhaust_vacuum|ambient_pressure|relative_humidity|   unscaled_features|            features|        prediction|\n",
      "+------+-----------+--------------+----------------+-----------------+--------------------+--------------------+------------------+\n",
      "|420.26|      24.27|         63.87|         1018.88|            53.96|[24.27,63.87,1018...|[3.25663699180662...| 446.4195485172035|\n",
      "|425.14|      29.67|         71.98|         1005.16|            67.75|[29.67,71.98,1005...|[3.98122865871044...|  430.880808487506|\n",
      "|425.14|      31.93|         72.58|          1006.9|            56.27|[31.93,72.58,1006...|[4.28448368967389...| 428.2022130231028|\n",
      "|425.17|      32.66|         73.68|         1014.64|            40.88|[32.66,73.68,1014...|[4.38243774834793...|429.38716278980024|\n",
      "|425.18|      32.84|         68.14|         1003.59|            43.88|[32.84,68.14,1003...|[4.40659080391139...|429.15679891529965|\n",
      "|425.21|       30.2|         71.85|         1008.25|             59.1|[30.2,71.85,1008....|[4.05234598898063...| 431.4085751353099|\n",
      "|425.27|      30.08|         68.14|         1003.99|            77.38|[30.08,68.14,1003...|[4.03624395193832...|429.50861635387383|\n",
      "| 425.3|       30.9|          69.4|         1003.53|            66.69|[30.9,69.4,1003.5...|[4.14627453839409...| 429.1775463629998|\n",
      "|425.35|      30.97|         67.69|         1005.61|            50.88|[30.97,67.69,1005...|[4.15566739333543...|431.98836494758757|\n",
      "|425.58|      34.24|         74.67|         1016.24|            25.56|[34.24,74.67,1016...|[4.59444790273831...|428.49504113447927|\n",
      "|425.89|      34.66|         74.33|          1012.0|            32.19|[34.66,74.33,1012...|[4.65080503238638...| 426.4625002219918|\n",
      "|425.91|       32.4|         68.14|         1004.44|            34.53|[32.4,68.14,1004....|[4.34755000142293...| 431.4734454618997|\n",
      "|425.98|      31.42|         69.13|         1009.34|            57.16|[31.42,69.13,1009...|[4.21605003224409...|430.08942601664035|\n",
      "| 426.0|      27.63|         71.98|         1005.45|            82.88|[27.63,71.98,1005...|[3.70749402899122...|432.58488403738556|\n",
      "|426.22|      35.03|         68.27|         1006.55|            43.82|[35.03,68.27,1006...|[4.70045297993349...| 425.1063453101448|\n",
      "|426.25|      30.24|         68.24|         1009.68|            64.67|[30.24,68.24,1009...|[4.05771333466140...|431.49444644892003|\n",
      "|426.28|      32.91|         73.68|         1014.49|            50.62|[32.91,73.68,1014...|[4.41598365885273...| 427.4310897946113|\n",
      "|426.31|      31.05|         69.13|         1000.38|            58.49|[31.05,69.13,1000...|[4.16640208469697...|429.95432915998066|\n",
      "|426.46|      32.89|         73.68|         1014.45|            52.34|[32.89,73.68,1014...|[4.41329998601235...| 427.2089564697001|\n",
      "|426.48|      28.55|         74.33|         1011.77|            73.34|[28.55,74.33,1011...|[3.83094297964891...| 432.1111748589326|\n",
      "+------+-----------+--------------+----------------+-----------------+--------------------+--------------------+------------------+\n",
      "only showing top 20 rows\n",
      "\n"
     ]
    }
   ],
   "source": [
    "prediction_df.show()"
   ]
  }
 ],
 "metadata": {
  "kernelspec": {
   "display_name": "Python 3",
   "language": "python",
   "name": "python3"
  },
  "language_info": {
   "codemirror_mode": {
    "name": "ipython",
    "version": 3
   },
   "file_extension": ".py",
   "mimetype": "text/x-python",
   "name": "python",
   "nbconvert_exporter": "python",
   "pygments_lexer": "ipython3",
   "version": "3.5.2"
  }
 },
 "nbformat": 4,
 "nbformat_minor": 2
}
