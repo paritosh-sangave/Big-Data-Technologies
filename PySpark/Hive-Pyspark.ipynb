{
 "cells": [
  {
   "cell_type": "code",
   "execution_count": 1,
   "metadata": {},
   "outputs": [],
   "source": [
    "import findspark\n",
    "findspark.init('/usr/local/spark')\n",
    "import pyspark"
   ]
  },
  {
   "cell_type": "code",
   "execution_count": 2,
   "metadata": {},
   "outputs": [],
   "source": [
    "from pyspark.sql import SparkSession"
   ]
  },
  {
   "cell_type": "code",
   "execution_count": 5,
   "metadata": {},
   "outputs": [],
   "source": [
    "spark = SparkSession.builder.appName(\"Pyspark hive connect example\").config(\"spark.sql.warehouse.dir\",\"hdfs://localhost:54310/user/hive/warehouse\").enableHiveSupport().getOrCreate()"
   ]
  },
  {
   "cell_type": "code",
   "execution_count": 8,
   "metadata": {},
   "outputs": [
    {
     "name": "stdout",
     "output_type": "stream",
     "text": [
      "+------------+\n",
      "|databaseName|\n",
      "+------------+\n",
      "|     default|\n",
      "|       mydb1|\n",
      "+------------+\n",
      "\n"
     ]
    }
   ],
   "source": [
    "spark.sql(\"show databases\").show()"
   ]
  },
  {
   "cell_type": "code",
   "execution_count": 15,
   "metadata": {},
   "outputs": [
    {
     "name": "stdout",
     "output_type": "stream",
     "text": [
      "+------------+\n",
      "|databaseName|\n",
      "+------------+\n",
      "|     default|\n",
      "|       mydb1|\n",
      "+------------+\n",
      "\n"
     ]
    }
   ],
   "source": [
    "spark.sql(\"create database mydb1\")"
   ]
  },
  {
   "cell_type": "code",
   "execution_count": 16,
   "metadata": {},
   "outputs": [
    {
     "data": {
      "text/plain": [
       "DataFrame[]"
      ]
     },
     "execution_count": 16,
     "metadata": {},
     "output_type": "execute_result"
    }
   ],
   "source": [
    "spark.sql(\"use mydb1\")"
   ]
  },
  {
   "cell_type": "code",
   "execution_count": 18,
   "metadata": {},
   "outputs": [
    {
     "name": "stdout",
     "output_type": "stream",
     "text": [
      "+--------+---------+-----------+\n",
      "|database|tableName|isTemporary|\n",
      "+--------+---------+-----------+\n",
      "+--------+---------+-----------+\n",
      "\n"
     ]
    }
   ],
   "source": [
    "spark.sql(\"show tables\").show()"
   ]
  },
  {
   "cell_type": "code",
   "execution_count": 19,
   "metadata": {},
   "outputs": [
    {
     "data": {
      "text/plain": [
       "DataFrame[]"
      ]
     },
     "execution_count": 19,
     "metadata": {},
     "output_type": "execute_result"
    }
   ],
   "source": [
    "spark.sql(\"create table student (id int, name string)\")"
   ]
  },
  {
   "cell_type": "code",
   "execution_count": 20,
   "metadata": {},
   "outputs": [
    {
     "name": "stdout",
     "output_type": "stream",
     "text": [
      "+--------+---------+-----------+\n",
      "|database|tableName|isTemporary|\n",
      "+--------+---------+-----------+\n",
      "|   mydb1|  student|      false|\n",
      "+--------+---------+-----------+\n",
      "\n"
     ]
    }
   ],
   "source": [
    "spark.sql(\"show tables\").show()"
   ]
  },
  {
   "cell_type": "code",
   "execution_count": 22,
   "metadata": {},
   "outputs": [
    {
     "data": {
      "text/plain": [
       "DataFrame[]"
      ]
     },
     "execution_count": 22,
     "metadata": {},
     "output_type": "execute_result"
    }
   ],
   "source": [
    "spark.sql(\"create table customer(customer_id int, customer_name string, customer_city string, customer_street string, customer_zipcode int ) row format delimited fields terminated by '\\t'\")"
   ]
  },
  {
   "cell_type": "code",
   "execution_count": 25,
   "metadata": {},
   "outputs": [
    {
     "name": "stdout",
     "output_type": "stream",
     "text": [
      "+--------+---------+-----------+\n",
      "|database|tableName|isTemporary|\n",
      "+--------+---------+-----------+\n",
      "|   mydb1| customer|      false|\n",
      "|   mydb1|  student|      false|\n",
      "+--------+---------+-----------+\n",
      "\n"
     ]
    }
   ],
   "source": [
    "spark.sql(\"show tables\").show()"
   ]
  },
  {
   "cell_type": "code",
   "execution_count": 26,
   "metadata": {},
   "outputs": [
    {
     "name": "stdout",
     "output_type": "stream",
     "text": [
      "+----------------+---------+-------+\n",
      "|        col_name|data_type|comment|\n",
      "+----------------+---------+-------+\n",
      "|     customer_id|      int|   null|\n",
      "|   customer_name|   string|   null|\n",
      "|   customer_city|   string|   null|\n",
      "| customer_street|   string|   null|\n",
      "|customer_zipcode|      int|   null|\n",
      "+----------------+---------+-------+\n",
      "\n"
     ]
    }
   ],
   "source": [
    "spark.sql(\"desc customer\").show()\n"
   ]
  },
  {
   "cell_type": "code",
   "execution_count": 27,
   "metadata": {},
   "outputs": [
    {
     "data": {
      "text/plain": [
       "DataFrame[]"
      ]
     },
     "execution_count": 27,
     "metadata": {},
     "output_type": "execute_result"
    }
   ],
   "source": [
    "spark.sql(\"create table product(customer_id int, product_category string, product_name string, product_price double,product_quantity int,salestxn_id int) row format delimited fields terminated by '\\t'\")"
   ]
  },
  {
   "cell_type": "code",
   "execution_count": 28,
   "metadata": {},
   "outputs": [
    {
     "data": {
      "text/plain": [
       "DataFrame[]"
      ]
     },
     "execution_count": 28,
     "metadata": {},
     "output_type": "execute_result"
    }
   ],
   "source": [
    "spark.sql(\"load data local inpath '/home/hduser/Desktop/customer.tsv' into table customer\")"
   ]
  },
  {
   "cell_type": "code",
   "execution_count": 30,
   "metadata": {},
   "outputs": [
    {
     "name": "stdout",
     "output_type": "stream",
     "text": [
      "+-----------+----------------+-------------+---------------+----------------+\n",
      "|customer_id|   customer_name|customer_city|customer_street|customer_zipcode|\n",
      "+-----------+----------------+-------------+---------------+----------------+\n",
      "|      11039|     Mary Torres|       Caguas|             PR|             725|\n",
      "|       5623|      Jose Haley|     Columbus|             OH|           43207|\n",
      "|       5829|      Mary Smith|      Houston|             TX|           77015|\n",
      "|       6336|  Richard Maddox|       Caguas|             PR|             725|\n",
      "|       1708|  Margaret Booth|    Arlington|             TX|           76010|\n",
      "|      10227|  Mary Henderson|       Caguas|             PR|             725|\n",
      "|        839|     Lisa Walker|       Caguas|             PR|             725|\n",
      "|       7604|   Jonathan Hill|      Phoenix|             AZ|           85040|\n",
      "|       6485|Carolyn Sheppard|Pompano Beach|             FL|           33063|\n",
      "|       4737|    Mary Mendoza|       Caguas|             PR|             725|\n",
      "|       5973|   Michael Smith|       Caguas|             PR|             725|\n",
      "|       9205|    James Holmes|     Hilliard|             OH|           43026|\n",
      "|        138|     Mary Dawson|       Caguas|             PR|             725|\n",
      "|        371|    Adam Marquez|  San Antonio|             TX|           78223|\n",
      "|       9285|    Gloria Smith|       Caguas|             PR|             725|\n",
      "|       1209|       Mary Webb|   San Marcos|             TX|           78666|\n",
      "|       3021|  Nancy Alvarado|     Flushing|             NY|           11354|\n",
      "|       3354|  Russell Flores|       Caguas|             PR|             725|\n",
      "|      11684|    Denise Smith|    Rego Park|             NY|           11374|\n",
      "|      11144|  Jose Dickerson|         Mesa|             AZ|           85201|\n",
      "+-----------+----------------+-------------+---------------+----------------+\n",
      "only showing top 20 rows\n",
      "\n"
     ]
    }
   ],
   "source": [
    "spark.sql(\"select * from customer\").show()"
   ]
  },
  {
   "cell_type": "code",
   "execution_count": 31,
   "metadata": {},
   "outputs": [
    {
     "data": {
      "text/plain": [
       "DataFrame[]"
      ]
     },
     "execution_count": 31,
     "metadata": {},
     "output_type": "execute_result"
    }
   ],
   "source": [
    "spark.sql(\"load data local inpath '/home/hduser/Desktop/product.tsv' into table product\")"
   ]
  },
  {
   "cell_type": "code",
   "execution_count": 32,
   "metadata": {},
   "outputs": [
    {
     "name": "stdout",
     "output_type": "stream",
     "text": [
      "+-----------+--------------------+------------------+-------------+----------------+-----------+\n",
      "|customer_id|    product_category|      product_name|product_price|product_quantity|salestxn_id|\n",
      "+-----------+--------------------+------------------+-------------+----------------+-----------+\n",
      "|      98660|O'Brien Men's Neo...|           Fishing|         45.0|              49|          2|\n",
      "|      97749|O'Brien Men's Neo...|           Fishing|         45.0|              49|          2|\n",
      "|     103889|Under Armour Wome...|      Boxing & MMA|         12.0|              31|          4|\n",
      "|      22751|O'Brien Men's Neo...|           Fishing|         45.0|              49|          5|\n",
      "|     129001|Pelican Sunstream...|           Boating|         47.0|             199|          1|\n",
      "|     165110|Nike Men's CJ Eli...|            Cleats|         17.0|             129|          1|\n",
      "|     140220|Diamondback Women...| Bike & Skate Shop|         42.0|             299|          1|\n",
      "|      77426|Field & Stream Sp...|Hunting & Shooting|         44.0|             399|          1|\n",
      "|     101870|Perfect Fitness P...|   As Seen on  TV!|         16.0|              59|          4|\n",
      "|     131685|Nike Men's CJ Eli...|            Cleats|         17.0|             129|          1|\n",
      "|     164177|Pelican Sunstream...|           Boating|         47.0|             199|          1|\n",
      "|      78983|Nike Men's CJ Eli...|            Cleats|         17.0|             129|          1|\n",
      "|      84894|Diamondback Women...| Bike & Skate Shop|         42.0|             299|          1|\n",
      "|     170683|Nike Men's CJ Eli...|            Cleats|         17.0|             129|          1|\n",
      "|      22083|Nike Men's Dri-FI...|     Men's Apparel|         23.0|              50|          3|\n",
      "|      76014|O'Brien Men's Neo...|           Fishing|         45.0|              49|          1|\n",
      "|      79165|O'Brien Men's Neo...|           Fishing|         45.0|              49|          5|\n",
      "|      44574|Nike Men's Dri-FI...|     Men's Apparel|         23.0|              50|          1|\n",
      "|     102807|Diamondback Women...| Bike & Skate Shop|         42.0|             299|          1|\n",
      "|     125420|Under Armour Girl...|        Top Brands|         28.0|              39|          1|\n",
      "+-----------+--------------------+------------------+-------------+----------------+-----------+\n",
      "only showing top 20 rows\n",
      "\n"
     ]
    }
   ],
   "source": [
    "spark.sql(\"select * from product\").show()"
   ]
  },
  {
   "cell_type": "code",
   "execution_count": 34,
   "metadata": {},
   "outputs": [
    {
     "name": "stdout",
     "output_type": "stream",
     "text": [
      "+-----------+-----------------+-------------+---------------+----------------+\n",
      "|customer_id|    customer_name|customer_city|customer_street|customer_zipcode|\n",
      "+-----------+-----------------+-------------+---------------+----------------+\n",
      "|       6336|   Richard Maddox|       Caguas|             PR|             725|\n",
      "|       9552|Richard Wilkerson|    Las Vegas|             NV|           89110|\n",
      "|       1057|   Richard Haynes|      Hayward|             CA|           94544|\n",
      "|       1989|    Richard Leach|       Caguas|             PR|             725|\n",
      "|       8387|  Richard Fuentes|      Waipahu|             HI|           96797|\n",
      "|       2183|    Richard Smith|       Caguas|             PR|             725|\n",
      "|        267|    Richard Smith|     Columbus|             OH|           43229|\n",
      "|       2536|   Richard Pineda|  Los Angeles|             CA|           90044|\n",
      "+-----------+-----------------+-------------+---------------+----------------+\n",
      "\n"
     ]
    }
   ],
   "source": [
    "spark.sql(\"select * from customer where customer_name like 'Rich%'\").show()"
   ]
  },
  {
   "cell_type": "code",
   "execution_count": 46,
   "metadata": {
    "collapsed": true
   },
   "outputs": [
    {
     "name": "stdout",
     "output_type": "stream",
     "text": [
      "+----------------+--------------+---------------+------------------+-------------+\n",
      "|   customer_name| customer_city|customer_street|      product_name|product_price|\n",
      "+----------------+--------------+---------------+------------------+-------------+\n",
      "|       Mary Webb|    San Marcos|             TX|           Boating|         47.0|\n",
      "|    Denise Smith|     Rego Park|             NY|        Top Brands|         28.0|\n",
      "|Russell Peterson|       Greeley|             CO|           Boating|         47.0|\n",
      "|    Jean Donovan|     Las Vegas|             NV|       More Sports|          8.0|\n",
      "|     Louis Novak|  Murfreesboro|             TN|     Men's Apparel|         23.0|\n",
      "|      Mary Smith|       Phoenix|             AZ|Hunting & Shooting|         44.0|\n",
      "|    George Smith|       Holland|             MI|           Fishing|         45.0|\n",
      "|     Jerry Hobbs|    Rio Rancho|             NM|     Boys' Apparel|         25.0|\n",
      "|    Mary Leonard|        Caguas|             PR|           Boating|         47.0|\n",
      "|    Robert Smith|        Caguas|             PR|        Top Brands|         28.0|\n",
      "|       Mary Soto|San Bernardino|             CA|     Men's Apparel|         23.0|\n",
      "|   Heather Smith|        Caguas|             PR|       More Sports|          8.0|\n",
      "|   Mary Reynolds|        Caguas|             PR|           Fishing|         45.0|\n",
      "|   William Smith|      Highland|             CA|       Accessories|         40.0|\n",
      "|      Mary Glass|         Salem|             OR|     Men's Apparel|         23.0|\n",
      "|Madison Sheppard|       Chicago|             IL|Hunting & Shooting|         44.0|\n",
      "| Philip Williams|        Caguas|             PR|           Boating|         47.0|\n",
      "|     John Hodges|      Cerritos|             CA|           Boating|         47.0|\n",
      "|      Mary Smith|        Caguas|             PR|Hunting & Shooting|         44.0|\n",
      "|  Margaret Grant|      Toa Baja|             PR|           Fishing|         45.0|\n",
      "+----------------+--------------+---------------+------------------+-------------+\n",
      "only showing top 20 rows\n",
      "\n"
     ]
    }
   ],
   "source": [
    "spark.sql(\"select c.customer_name,c.customer_city, c.customer_street, p.product_name,p.product_price from customer as c inner join product as p on(c.customer_id=p.customer_id) \").show()"
   ]
  },
  {
   "cell_type": "code",
   "execution_count": null,
   "metadata": {},
   "outputs": [],
   "source": []
  }
 ],
 "metadata": {
  "kernelspec": {
   "display_name": "Python 3",
   "language": "python",
   "name": "python3"
  },
  "language_info": {
   "codemirror_mode": {
    "name": "ipython",
    "version": 3
   },
   "file_extension": ".py",
   "mimetype": "text/x-python",
   "name": "python",
   "nbconvert_exporter": "python",
   "pygments_lexer": "ipython3",
   "version": "3.5.2"
  }
 },
 "nbformat": 4,
 "nbformat_minor": 2
}
