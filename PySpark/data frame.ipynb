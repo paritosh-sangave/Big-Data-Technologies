{
 "cells": [
  {
   "cell_type": "code",
   "execution_count": 1,
   "metadata": {},
   "outputs": [],
   "source": [
    "import findspark"
   ]
  },
  {
   "cell_type": "code",
   "execution_count": 2,
   "metadata": {},
   "outputs": [],
   "source": [
    "findspark.init('/usr/local/spark')"
   ]
  },
  {
   "cell_type": "code",
   "execution_count": 3,
   "metadata": {},
   "outputs": [],
   "source": [
    "import pyspark\n",
    "from pyspark.sql import SparkSession"
   ]
  },
  {
   "cell_type": "code",
   "execution_count": 4,
   "metadata": {},
   "outputs": [],
   "source": [
    "spark = SparkSession.builder.appName(\"Python dataframe example\").getOrCreate()"
   ]
  },
  {
   "cell_type": "code",
   "execution_count": 11,
   "metadata": {},
   "outputs": [],
   "source": [
    "customerDF = spark.read.load(\"/home/hduser/Desktop/customer.txt\",format = \"csv\",sep = \"\\t\",inferSchema=\"true\",header=\"true\")"
   ]
  },
  {
   "cell_type": "code",
   "execution_count": 12,
   "metadata": {},
   "outputs": [
    {
     "name": "stdout",
     "output_type": "stream",
     "text": [
      "root\n",
      " |-- customer_id: integer (nullable = true)\n",
      " |-- customer_name: string (nullable = true)\n",
      " |-- customer_city: string (nullable = true)\n",
      " |-- customer_state: string (nullable = true)\n",
      " |-- customer_zipcode: integer (nullable = true)\n",
      "\n"
     ]
    }
   ],
   "source": [
    "customerDF.printSchema()"
   ]
  },
  {
   "cell_type": "raw",
   "metadata": {},
   "source": []
  },
  {
   "cell_type": "code",
   "execution_count": 13,
   "metadata": {},
   "outputs": [
    {
     "name": "stdout",
     "output_type": "stream",
     "text": [
      "+-----------+----------------+-------------+--------------+----------------+\n",
      "|customer_id|   customer_name|customer_city|customer_state|customer_zipcode|\n",
      "+-----------+----------------+-------------+--------------+----------------+\n",
      "|      11039|     Mary Torres|       Caguas|            PR|             725|\n",
      "|       5623|      Jose Haley|     Columbus|            OH|           43207|\n",
      "|       5829|      Mary Smith|      Houston|            TX|           77015|\n",
      "|       6336|  Richard Maddox|       Caguas|            PR|             725|\n",
      "|       1708|  Margaret Booth|    Arlington|            TX|           76010|\n",
      "|      10227|  Mary Henderson|       Caguas|            PR|             725|\n",
      "|        839|     Lisa Walker|       Caguas|            PR|             725|\n",
      "|       7604|   Jonathan Hill|      Phoenix|            AZ|           85040|\n",
      "|       6485|Carolyn Sheppard|Pompano Beach|            FL|           33063|\n",
      "|       4737|    Mary Mendoza|       Caguas|            PR|             725|\n",
      "|       5973|   Michael Smith|       Caguas|            PR|             725|\n",
      "|       9205|    James Holmes|     Hilliard|            OH|           43026|\n",
      "|        138|     Mary Dawson|       Caguas|            PR|             725|\n",
      "|        371|    Adam Marquez|  San Antonio|            TX|           78223|\n",
      "|       9285|    Gloria Smith|       Caguas|            PR|             725|\n",
      "|       1209|       Mary Webb|   San Marcos|            TX|           78666|\n",
      "|       3021|  Nancy Alvarado|     Flushing|            NY|           11354|\n",
      "|       3354|  Russell Flores|       Caguas|            PR|             725|\n",
      "|      11684|    Denise Smith|    Rego Park|            NY|           11374|\n",
      "|      11144|  Jose Dickerson|         Mesa|            AZ|           85201|\n",
      "+-----------+----------------+-------------+--------------+----------------+\n",
      "only showing top 20 rows\n",
      "\n"
     ]
    }
   ],
   "source": [
    "customerDF.show()"
   ]
  },
  {
   "cell_type": "code",
   "execution_count": 14,
   "metadata": {},
   "outputs": [
    {
     "name": "stdout",
     "output_type": "stream",
     "text": [
      "+----------------+-------------+\n",
      "|   customer_name|customer_city|\n",
      "+----------------+-------------+\n",
      "|     Mary Torres|       Caguas|\n",
      "|      Jose Haley|     Columbus|\n",
      "|      Mary Smith|      Houston|\n",
      "|  Richard Maddox|       Caguas|\n",
      "|  Margaret Booth|    Arlington|\n",
      "|  Mary Henderson|       Caguas|\n",
      "|     Lisa Walker|       Caguas|\n",
      "|   Jonathan Hill|      Phoenix|\n",
      "|Carolyn Sheppard|Pompano Beach|\n",
      "|    Mary Mendoza|       Caguas|\n",
      "|   Michael Smith|       Caguas|\n",
      "|    James Holmes|     Hilliard|\n",
      "|     Mary Dawson|       Caguas|\n",
      "|    Adam Marquez|  San Antonio|\n",
      "|    Gloria Smith|       Caguas|\n",
      "|       Mary Webb|   San Marcos|\n",
      "|  Nancy Alvarado|     Flushing|\n",
      "|  Russell Flores|       Caguas|\n",
      "|    Denise Smith|    Rego Park|\n",
      "|  Jose Dickerson|         Mesa|\n",
      "+----------------+-------------+\n",
      "only showing top 20 rows\n",
      "\n"
     ]
    }
   ],
   "source": [
    "customerDF.select(customerDF['customer_name'],customerDF['customer_city']).show()"
   ]
  },
  {
   "cell_type": "code",
   "execution_count": 17,
   "metadata": {},
   "outputs": [
    {
     "name": "stdout",
     "output_type": "stream",
     "text": [
      "+----------------+\n",
      "|   customer_name|\n",
      "+----------------+\n",
      "|     Mary Torres|\n",
      "|      Jose Haley|\n",
      "|      Mary Smith|\n",
      "|  Richard Maddox|\n",
      "|  Margaret Booth|\n",
      "|  Mary Henderson|\n",
      "|     Lisa Walker|\n",
      "|   Jonathan Hill|\n",
      "|Carolyn Sheppard|\n",
      "|    Mary Mendoza|\n",
      "|   Michael Smith|\n",
      "|    James Holmes|\n",
      "|     Mary Dawson|\n",
      "|    Adam Marquez|\n",
      "|    Gloria Smith|\n",
      "|       Mary Webb|\n",
      "|  Nancy Alvarado|\n",
      "|  Russell Flores|\n",
      "|    Denise Smith|\n",
      "|  Jose Dickerson|\n",
      "+----------------+\n",
      "only showing top 20 rows\n",
      "\n"
     ]
    }
   ],
   "source": [
    "customerDF.select(customerDF['customer_name']).show()"
   ]
  },
  {
   "cell_type": "code",
   "execution_count": 23,
   "metadata": {},
   "outputs": [
    {
     "name": "stdout",
     "output_type": "stream",
     "text": [
      "+-----------+----------------+---------------+--------------+----------------+\n",
      "|customer_id|   customer_name|  customer_city|customer_state|customer_zipcode|\n",
      "+-----------+----------------+---------------+--------------+----------------+\n",
      "|       5577|      Mary Smith|        Modesto|            CA|           95350|\n",
      "|       1745|      Mary Smith|Rowland Heights|            CA|           91748|\n",
      "|      11444|Kathleen Patrick|      San Diego|            CA|           92109|\n",
      "|       8846|    Thomas Smith|          Indio|            CA|           92201|\n",
      "|       6237|  Bobby Anderson|       El Cajon|            CA|           92020|\n",
      "|       4085|       Mary Carr|  Panorama City|            CA|           91402|\n",
      "|       8705|  Patricia Smith|       Stockton|            CA|           95207|\n",
      "|       3669|       Mary Soto| San Bernardino|            CA|           92410|\n",
      "|       6101|      Mary Smith|    Los Angeles|            CA|           90033|\n",
      "|      11697|  Jessica Thomas|  Laguna Niguel|            CA|           92677|\n",
      "|       1295|   Theresa Lopez|       Winnetka|            CA|           91306|\n",
      "|       4814|     Paul Suarez|    Simi Valley|            CA|           93065|\n",
      "|       8530|   William Smith|       Highland|            CA|           92346|\n",
      "|       3846|    Ronald Lewis|        Ontario|            CA|           91764|\n",
      "|      10476|     John Hodges|       Cerritos|            CA|           90703|\n",
      "|      10243|  Donna Anderson|    Los Angeles|            CA|           90034|\n",
      "|      11595|   Zachary Jones|        Modesto|            CA|           95355|\n",
      "|        847|  Jerry Ferguson|      San Diego|            CA|           92102|\n",
      "|       3440|    Mary Edwards|        Salinas|            CA|           93905|\n",
      "|       3400|     Frank Lewis|  Moreno Valley|            CA|           92557|\n",
      "+-----------+----------------+---------------+--------------+----------------+\n",
      "only showing top 20 rows\n",
      "\n"
     ]
    }
   ],
   "source": [
    "customerDF.filter(customerDF['customer_state'] == 'CA').show()"
   ]
  },
  {
   "cell_type": "code",
   "execution_count": 24,
   "metadata": {},
   "outputs": [
    {
     "name": "stdout",
     "output_type": "stream",
     "text": [
      "+--------------+-----+\n",
      "|customer_state|count|\n",
      "+--------------+-----+\n",
      "|            AZ|   19|\n",
      "|            SC|    2|\n",
      "|            LA|    7|\n",
      "|            MN|    1|\n",
      "|            NJ|   19|\n",
      "|            DC|    4|\n",
      "|            OR|    4|\n",
      "|            VA|   14|\n",
      "|            RI|    2|\n",
      "|            KY|    1|\n",
      "+--------------+-----+\n",
      "only showing top 10 rows\n",
      "\n"
     ]
    }
   ],
   "source": [
    "customerDF.groupBy(\"customer_state\").count().show(10)"
   ]
  },
  {
   "cell_type": "code",
   "execution_count": 46,
   "metadata": {},
   "outputs": [],
   "source": [
    "view = customerDF.groupBy(\"customer_state\").count()"
   ]
  },
  {
   "cell_type": "code",
   "execution_count": 47,
   "metadata": {},
   "outputs": [],
   "source": [
    "view1 = view.filter(view[\"count\"]>50)"
   ]
  },
  {
   "cell_type": "code",
   "execution_count": 33,
   "metadata": {},
   "outputs": [],
   "source": [
    "customerDF.createOrReplaceTempView(\"customerView\")"
   ]
  },
  {
   "cell_type": "code",
   "execution_count": 35,
   "metadata": {},
   "outputs": [
    {
     "name": "stdout",
     "output_type": "stream",
     "text": [
      "+--------------+---+\n",
      "|customer_state|cnt|\n",
      "+--------------+---+\n",
      "|            CA|187|\n",
      "|            NY| 79|\n",
      "|            TX| 62|\n",
      "|            PR|505|\n",
      "+--------------+---+\n",
      "\n"
     ]
    }
   ],
   "source": [
    "spark.sql(\"select customer_state , count(*) as cnt  from customerView group by customer_state having cnt > 50 \").show()"
   ]
  },
  {
   "cell_type": "code",
   "execution_count": 38,
   "metadata": {},
   "outputs": [
    {
     "name": "stdout",
     "output_type": "stream",
     "text": [
      "root\n",
      " |-- customer_state: string (nullable = true)\n",
      " |-- count: long (nullable = false)\n",
      "\n"
     ]
    }
   ],
   "source": [
    "view.printSchema()"
   ]
  },
  {
   "cell_type": "code",
   "execution_count": 49,
   "metadata": {},
   "outputs": [],
   "source": [
    "view1.coalesce(1).write.json(\"/home/hduser/Desktop/view1.json\")"
   ]
  },
  {
   "cell_type": "code",
   "execution_count": 51,
   "metadata": {},
   "outputs": [],
   "source": [
    "productDF = spark.read.load(\"/home/hduser/Desktop/product.json\", format =\"json\")"
   ]
  },
  {
   "cell_type": "code",
   "execution_count": 52,
   "metadata": {},
   "outputs": [
    {
     "name": "stdout",
     "output_type": "stream",
     "text": [
      "root\n",
      " |-- _corrupt_record: string (nullable = true)\n",
      " |-- category_id: long (nullable = true)\n",
      " |-- customer_id: long (nullable = true)\n",
      " |-- product_category: string (nullable = true)\n",
      " |-- product_name: string (nullable = true)\n",
      " |-- product_price: double (nullable = true)\n",
      " |-- product_quantity: long (nullable = true)\n",
      " |-- salestxn_id: long (nullable = true)\n",
      "\n"
     ]
    }
   ],
   "source": [
    "productDF.printSchema()"
   ]
  },
  {
   "cell_type": "code",
   "execution_count": 53,
   "metadata": {},
   "outputs": [
    {
     "name": "stdout",
     "output_type": "stream",
     "text": [
      "+---------------+-----------+-----------+------------------+--------------------+-------------+----------------+-----------+\n",
      "|_corrupt_record|category_id|customer_id|  product_category|        product_name|product_price|product_quantity|salestxn_id|\n",
      "+---------------+-----------+-----------+------------------+--------------------+-------------+----------------+-----------+\n",
      "|           null|         45|      12080|           Fishing|O'Brien Men's Neo...|        49.98|               2|      98660|\n",
      "|           null|         45|      12279|           Fishing|O'Brien Men's Neo...|        49.98|               2|      97749|\n",
      "|           null|         12|       3343|      Boxing & MMA|Under Armour Wome...|        31.99|               4|     103889|\n",
      "|           null|         45|      12382|           Fishing|O'Brien Men's Neo...|        49.98|               5|      22751|\n",
      "|           null|         47|       5032|           Boating|Pelican Sunstream...|       199.99|               1|     129001|\n",
      "|           null|         17|       2663|            Cleats|Nike Men's CJ Eli...|       129.99|               1|     165110|\n",
      "|           null|         42|        702| Bike & Skate Shop|Diamondback Women...|       299.98|               1|     140220|\n",
      "|           null|         44|       3959|Hunting & Shooting|Field & Stream Sp...|       399.98|               1|      77426|\n",
      "|           null|         16|       1836|   As Seen on  TV!|Perfect Fitness P...|        59.99|               4|     101870|\n",
      "|           null|         17|       5212|            Cleats|Nike Men's CJ Eli...|       129.99|               1|     131685|\n",
      "|           null|         47|       4037|           Boating|Pelican Sunstream...|       199.99|               1|     164177|\n",
      "|           null|         17|       7528|            Cleats|Nike Men's CJ Eli...|       129.99|               1|      78983|\n",
      "|           null|         42|       5658| Bike & Skate Shop|Diamondback Women...|       299.98|               1|      84894|\n",
      "|           null|         17|       6888|            Cleats|Nike Men's CJ Eli...|       129.99|               1|     170683|\n",
      "|           null|         23|       7946|     Men's Apparel|Nike Men's Dri-FI...|         50.0|               3|      22083|\n",
      "|           null|         45|      10667|           Fishing|O'Brien Men's Neo...|        49.98|               1|      76014|\n",
      "|           null|         45|       9976|           Fishing|O'Brien Men's Neo...|        49.98|               5|      79165|\n",
      "|           null|         23|       4798|     Men's Apparel|Nike Men's Dri-FI...|         50.0|               1|      44574|\n",
      "|           null|         42|       9356| Bike & Skate Shop|Diamondback Women...|       299.98|               1|     102807|\n",
      "|           null|         28|       8284|        Top Brands|Under Armour Girl...|        39.99|               1|     125420|\n",
      "+---------------+-----------+-----------+------------------+--------------------+-------------+----------------+-----------+\n",
      "only showing top 20 rows\n",
      "\n"
     ]
    }
   ],
   "source": [
    "productDF.show()"
   ]
  },
  {
   "cell_type": "code",
   "execution_count": 54,
   "metadata": {},
   "outputs": [
    {
     "name": "stdout",
     "output_type": "stream",
     "text": [
      "+--------------------+-------------+\n",
      "|        product_name|product_price|\n",
      "+--------------------+-------------+\n",
      "|O'Brien Men's Neo...|        49.98|\n",
      "|O'Brien Men's Neo...|        49.98|\n",
      "|Under Armour Wome...|        31.99|\n",
      "|O'Brien Men's Neo...|        49.98|\n",
      "|Pelican Sunstream...|       199.99|\n",
      "|Nike Men's CJ Eli...|       129.99|\n",
      "|Diamondback Women...|       299.98|\n",
      "|Field & Stream Sp...|       399.98|\n",
      "|Perfect Fitness P...|        59.99|\n",
      "|Nike Men's CJ Eli...|       129.99|\n",
      "|Pelican Sunstream...|       199.99|\n",
      "|Nike Men's CJ Eli...|       129.99|\n",
      "|Diamondback Women...|       299.98|\n",
      "|Nike Men's CJ Eli...|       129.99|\n",
      "|Nike Men's Dri-FI...|         50.0|\n",
      "|O'Brien Men's Neo...|        49.98|\n",
      "|O'Brien Men's Neo...|        49.98|\n",
      "|Nike Men's Dri-FI...|         50.0|\n",
      "|Diamondback Women...|       299.98|\n",
      "|Under Armour Girl...|        39.99|\n",
      "+--------------------+-------------+\n",
      "only showing top 20 rows\n",
      "\n"
     ]
    }
   ],
   "source": [
    "productDF.select(productDF['product_name'],productDF['product_price']).show()"
   ]
  },
  {
   "cell_type": "code",
   "execution_count": 57,
   "metadata": {},
   "outputs": [
    {
     "name": "stdout",
     "output_type": "stream",
     "text": [
      "+--------------------+-------------+------------------+\n",
      "|        product_name|product_price|  product_category|\n",
      "+--------------------+-------------+------------------+\n",
      "|Diamondback Women...|       299.98| Bike & Skate Shop|\n",
      "|Field & Stream Sp...|       399.98|Hunting & Shooting|\n",
      "|Diamondback Women...|       299.98| Bike & Skate Shop|\n",
      "|Diamondback Women...|       299.98| Bike & Skate Shop|\n",
      "|Diamondback Women...|       299.98| Bike & Skate Shop|\n",
      "|Field & Stream Sp...|       399.98|Hunting & Shooting|\n",
      "|Diamondback Women...|       299.98| Bike & Skate Shop|\n",
      "|Diamondback Women...|       299.98| Bike & Skate Shop|\n",
      "|Diamondback Women...|       299.98| Bike & Skate Shop|\n",
      "|Field & Stream Sp...|       399.98|Hunting & Shooting|\n",
      "|Field & Stream Sp...|       399.98|Hunting & Shooting|\n",
      "|Diamondback Women...|       299.98| Bike & Skate Shop|\n",
      "|Field & Stream Sp...|       399.98|Hunting & Shooting|\n",
      "|Field & Stream Sp...|       399.98|Hunting & Shooting|\n",
      "|Field & Stream Sp...|       399.98|Hunting & Shooting|\n",
      "|Field & Stream Sp...|       399.98|Hunting & Shooting|\n",
      "|Field & Stream Sp...|       399.98|Hunting & Shooting|\n",
      "|Diamondback Women...|       299.98| Bike & Skate Shop|\n",
      "|Field & Stream Sp...|       399.98|Hunting & Shooting|\n",
      "|Field & Stream Sp...|       399.98|Hunting & Shooting|\n",
      "+--------------------+-------------+------------------+\n",
      "only showing top 20 rows\n",
      "\n"
     ]
    }
   ],
   "source": [
    "productDF.select(productDF['product_name'],productDF['product_price'],productDF['product_category']).filter(productDF['product_price'] >200 ).show()"
   ]
  },
  {
   "cell_type": "code",
   "execution_count": 65,
   "metadata": {},
   "outputs": [],
   "source": [
    "view = productDF.groupBy('product_category').count()"
   ]
  },
  {
   "cell_type": "code",
   "execution_count": null,
   "metadata": {},
   "outputs": [],
   "source": [
    "view."
   ]
  }
 ],
 "metadata": {
  "kernelspec": {
   "display_name": "Python 3",
   "language": "python",
   "name": "python3"
  },
  "language_info": {
   "codemirror_mode": {
    "name": "ipython",
    "version": 3
   },
   "file_extension": ".py",
   "mimetype": "text/x-python",
   "name": "python",
   "nbconvert_exporter": "python",
   "pygments_lexer": "ipython3",
   "version": "3.5.2"
  }
 },
 "nbformat": 4,
 "nbformat_minor": 2
}
